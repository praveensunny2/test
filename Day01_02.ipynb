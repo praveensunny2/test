{
  "nbformat": 4,
  "nbformat_minor": 0,
  "metadata": {
    "colab": {
      "name": "Day01-02.ipynb",
      "provenance": [],
      "include_colab_link": true
    },
    "kernelspec": {
      "name": "python3",
      "display_name": "Python 3"
    }
  },
  "cells": [
    {
      "cell_type": "markdown",
      "metadata": {
        "id": "view-in-github",
        "colab_type": "text"
      },
      "source": [
        "<a href=\"https://colab.research.google.com/github/praveensunny2/test/blob/main/Day01_02.ipynb\" target=\"_parent\"><img src=\"https://colab.research.google.com/assets/colab-badge.svg\" alt=\"Open In Colab\"/></a>"
      ]
    },
    {
      "cell_type": "markdown",
      "metadata": {
        "id": "8PJmNo5RRHUp"
      },
      "source": [
        "#**Week-I Learnings**"
      ]
    },
    {
      "cell_type": "markdown",
      "metadata": {
        "id": "CCFvg96wSven"
      },
      "source": [
        "## Basics of Python [ *Day01-02* ]"
      ]
    },
    {
      "cell_type": "markdown",
      "metadata": {
        "id": "PjkYURDA5qMH"
      },
      "source": [
        "\n",
        "\n",
        "*   Python was developed in the late 1980's by Guido van Rossum\n",
        "*   Python is a high-level, interpreted, interactive and object-oriented language\n",
        "*    elegant  syntax  that  enables  writing  very  easy  to  readprograms\n",
        "*  Comes with a large standard library support\n",
        "*  All basic data types are available:  numbers (\n",
        "oating point, complex,and unlimited-length integers), strings.\n",
        "*  Higher level containers such as lists, dictionaries and sets are part ofthe core language \n",
        "*  Python supports object-oriented programming with classes and mul-tiple inheritance.\n",
        "*  Modules and packages are the mechanisms to design, build, and dis-tribute applications and libraries.\n",
        "*  Data  types  are  strongly  and  dynamically  typed.  \n",
        "*  Provides advanced programming features such as generators and listcomprehensions.\n",
        "\n",
        "\n"
      ]
    },
    {
      "cell_type": "markdown",
      "metadata": {
        "id": "Tu1ggnEC53KW"
      },
      "source": [
        "**To check the version of python**"
      ]
    },
    {
      "cell_type": "code",
      "metadata": {
        "id": "kumfz4LFarTE",
        "colab": {
          "base_uri": "https://localhost:8080/"
        },
        "outputId": "c7951775-c710-43b7-c132-870280118979"
      },
      "source": [
        "!python --version"
      ],
      "execution_count": 1,
      "outputs": [
        {
          "output_type": "stream",
          "text": [
            "Python 3.7.10\n"
          ],
          "name": "stdout"
        }
      ]
    },
    {
      "cell_type": "markdown",
      "metadata": {
        "id": "2KdFqcl2dx5S"
      },
      "source": [
        "**This is my First Code**"
      ]
    },
    {
      "cell_type": "code",
      "metadata": {
        "id": "PAFU5FBLd4tl",
        "colab": {
          "base_uri": "https://localhost:8080/"
        },
        "outputId": "8c598b18-72d0-4b1e-e4ac-ae86a6791d05"
      },
      "source": [
        "print(\"My first python code\")"
      ],
      "execution_count": 2,
      "outputs": [
        {
          "output_type": "stream",
          "text": [
            "My first python code\n"
          ],
          "name": "stdout"
        }
      ]
    },
    {
      "cell_type": "markdown",
      "metadata": {
        "id": "RRu6TFWygWdG"
      },
      "source": [
        "#**Building blocks of Python Program**\n",
        "* Functions\n",
        "* Variables\n",
        "* Expressions\n",
        "* Statements\n",
        "* Block\n",
        "* Comments\n"
      ]
    },
    {
      "cell_type": "code",
      "metadata": {
        "id": "ohO0_zI3d2ti"
      },
      "source": [
        "num = 7\n",
        "num1 = 10.5\n",
        "name = \"Govada Praveen\"\n",
        "marks = [10, 20, 35]\n"
      ],
      "execution_count": 3,
      "outputs": []
    },
    {
      "cell_type": "markdown",
      "metadata": {
        "id": "KX1B5Ehu6OMB"
      },
      "source": [
        "#**Naming Rules in Python**\n",
        "\n",
        "* Must begin with a alphabet(a - z, A - Z) or underscore().\n",
        "* Other characters can be alphabets, digits or underscore().\n",
        "* Python is case sensitive; uppercase and lower case alphabets are treated as distinct"
      ]
    },
    {
      "cell_type": "code",
      "metadata": {
        "id": "AehafU0hfSR7",
        "colab": {
          "base_uri": "https://localhost:8080/"
        },
        "outputId": "7eae6afe-29c5-482e-bc21-555dbff57ab9"
      },
      "source": [
        "add = num + num1\n",
        "sub = num1 - num\n",
        "print(type(add))\n",
        "mul = num * num1\n",
        "print(mul)\n",
        "div = 11 / 2\n",
        "print(div)\n",
        "int_div = 11 // 2\n",
        "print(int_div)\n",
        "mod = 11 % 2\n",
        "print(mod)"
      ],
      "execution_count": 4,
      "outputs": [
        {
          "output_type": "stream",
          "text": [
            "<class 'float'>\n",
            "73.5\n",
            "5.5\n",
            "5\n",
            "1\n"
          ],
          "name": "stdout"
        }
      ]
    },
    {
      "cell_type": "code",
      "metadata": {
        "id": "DqJTmNkfewAV",
        "colab": {
          "base_uri": "https://localhost:8080/"
        },
        "outputId": "8c608aae-f75a-4151-92d8-47d641675b93"
      },
      "source": [
        "result = div > int_div\n",
        "print(\"hey\")\n",
        "type(result)"
      ],
      "execution_count": 5,
      "outputs": [
        {
          "output_type": "stream",
          "text": [
            "hey\n"
          ],
          "name": "stdout"
        },
        {
          "output_type": "execute_result",
          "data": {
            "text/plain": [
              "bool"
            ]
          },
          "metadata": {
            "tags": []
          },
          "execution_count": 5
        }
      ]
    },
    {
      "cell_type": "code",
      "metadata": {
        "id": "RSo6kLo2exju",
        "colab": {
          "base_uri": "https://localhost:8080/"
        },
        "outputId": "d844d90b-d1ed-46aa-a14f-96ef49d152a0"
      },
      "source": [
        "type(num1)"
      ],
      "execution_count": 6,
      "outputs": [
        {
          "output_type": "execute_result",
          "data": {
            "text/plain": [
              "float"
            ]
          },
          "metadata": {
            "tags": []
          },
          "execution_count": 6
        }
      ]
    },
    {
      "cell_type": "code",
      "metadata": {
        "id": "7NiXpYi3e0Yd",
        "colab": {
          "base_uri": "https://localhost:8080/"
        },
        "outputId": "43088926-5a74-4049-c711-a3270763c290"
      },
      "source": [
        "type(name)"
      ],
      "execution_count": 7,
      "outputs": [
        {
          "output_type": "execute_result",
          "data": {
            "text/plain": [
              "str"
            ]
          },
          "metadata": {
            "tags": []
          },
          "execution_count": 7
        }
      ]
    },
    {
      "cell_type": "code",
      "metadata": {
        "id": "KVu7FlEce3ab",
        "colab": {
          "base_uri": "https://localhost:8080/"
        },
        "outputId": "d8073aa8-3564-4ffb-9a02-be22086d01d4"
      },
      "source": [
        "type(marks)"
      ],
      "execution_count": 8,
      "outputs": [
        {
          "output_type": "execute_result",
          "data": {
            "text/plain": [
              "list"
            ]
          },
          "metadata": {
            "tags": []
          },
          "execution_count": 8
        }
      ]
    },
    {
      "cell_type": "markdown",
      "metadata": {
        "id": "hhqFaJBl6rT2"
      },
      "source": [
        "#**if...else...**"
      ]
    },
    {
      "cell_type": "code",
      "metadata": {
        "id": "fVyV-Z3We5cn",
        "colab": {
          "base_uri": "https://localhost:8080/"
        },
        "outputId": "1ac5dde7-35b2-47a5-a82b-20c7e3e1ec50"
      },
      "source": [
        "age = 10\n",
        "if age >= 18:\n",
        "  print(\"can vote\")\n",
        "else:\n",
        "  print(\"wait for your turn\")\n"
      ],
      "execution_count": 9,
      "outputs": [
        {
          "output_type": "stream",
          "text": [
            "wait for your turn\n"
          ],
          "name": "stdout"
        }
      ]
    },
    {
      "cell_type": "markdown",
      "metadata": {
        "id": "Cor2MjHt7Nrp"
      },
      "source": [
        "#Find the grade of a student based on a marks.\n",
        "#**using if...elif and else**"
      ]
    },
    {
      "cell_type": "code",
      "metadata": {
        "id": "y6iif8wI7URi",
        "colab": {
          "base_uri": "https://localhost:8080/"
        },
        "outputId": "62e59187-1b14-4add-8bf5-934b104164ec"
      },
      "source": [
        "marks  =  75\n",
        "if marks >= 80:\n",
        "  print(\" Grade  A\")\n",
        "elif marks >=  60:\n",
        "  print( \" Grade  B\" )\n",
        "elif marks >= 40:\n",
        "  print( \" Grade  C\" )\n",
        "else:\n",
        "  print( \" F a i l e d \" )"
      ],
      "execution_count": 10,
      "outputs": [
        {
          "output_type": "stream",
          "text": [
            " Grade  B\n"
          ],
          "name": "stdout"
        }
      ]
    },
    {
      "cell_type": "markdown",
      "metadata": {
        "id": "2fyle_Qo6fFU"
      },
      "source": [
        "#**while**"
      ]
    },
    {
      "cell_type": "code",
      "metadata": {
        "id": "QvlM7JJtjSWS",
        "colab": {
          "base_uri": "https://localhost:8080/"
        },
        "outputId": "75a4d0f8-9826-4cc9-8e25-4ff9ca00c8e1"
      },
      "source": [
        "num = 1\n",
        "while num < 11:\n",
        "  if num % 2 == 0:\n",
        "    print(num)\n",
        "  else:\n",
        "    print(\"you are odd\")\n",
        "  num += 1\n",
        "  \n",
        "print(\"outside the loop\")"
      ],
      "execution_count": 11,
      "outputs": [
        {
          "output_type": "stream",
          "text": [
            "you are odd\n",
            "2\n",
            "you are odd\n",
            "4\n",
            "you are odd\n",
            "6\n",
            "you are odd\n",
            "8\n",
            "you are odd\n",
            "10\n",
            "outside the loop\n"
          ],
          "name": "stdout"
        }
      ]
    },
    {
      "cell_type": "code",
      "metadata": {
        "id": "X-h1bUOpu4h-",
        "colab": {
          "base_uri": "https://localhost:8080/"
        },
        "outputId": "39520c5b-95f0-4d16-fa09-f0324bfd08fb"
      },
      "source": [
        "num = 10\n",
        "while num < 100:\n",
        "  print(num, end = \" \")\n",
        "  num += 1"
      ],
      "execution_count": 12,
      "outputs": [
        {
          "output_type": "stream",
          "text": [
            "10 11 12 13 14 15 16 17 18 19 20 21 22 23 24 25 26 27 28 29 30 31 32 33 34 35 36 37 38 39 40 41 42 43 44 45 46 47 48 49 50 51 52 53 54 55 56 57 58 59 60 61 62 63 64 65 66 67 68 69 70 71 72 73 74 75 76 77 78 79 80 81 82 83 84 85 86 87 88 89 90 91 92 93 94 95 96 97 98 99 "
          ],
          "name": "stdout"
        }
      ]
    },
    {
      "cell_type": "markdown",
      "metadata": {
        "id": "Q9PhP49e8miE"
      },
      "source": [
        "#**Functions**"
      ]
    },
    {
      "cell_type": "code",
      "metadata": {
        "id": "IpTLuyBYldvc",
        "colab": {
          "base_uri": "https://localhost:8080/"
        },
        "outputId": "d8c79c97-21e1-4bac-8a72-3bb4c8cd9d70"
      },
      "source": [
        "def is_even(n):\n",
        "  return n % 2 == 0\n",
        "\n",
        "num = 1\n",
        "while num < 10:\n",
        "  if is_even(num):\n",
        "    print(\"even\")\n",
        "  num += 1\n"
      ],
      "execution_count": 13,
      "outputs": [
        {
          "output_type": "stream",
          "text": [
            "even\n",
            "even\n",
            "even\n",
            "even\n"
          ],
          "name": "stdout"
        }
      ]
    },
    {
      "cell_type": "code",
      "metadata": {
        "id": "vvx-aQvvxlFq",
        "colab": {
          "base_uri": "https://localhost:8080/"
        },
        "outputId": "4623ebaa-3381-4b93-9448-7b17ac0f5267"
      },
      "source": [
        "START = 1\n",
        "LIMIT = 100\n",
        "sumEvenNums = 0\n",
        "for num in range(START, LIMIT):\n",
        "  if is_even(num):\n",
        "    sumEvenNums += num\n",
        "print(sumEvenNums, end = \" \")"
      ],
      "execution_count": 14,
      "outputs": [
        {
          "output_type": "stream",
          "text": [
            "2450 "
          ],
          "name": "stdout"
        }
      ]
    },
    {
      "cell_type": "markdown",
      "metadata": {
        "id": "YNtN5n59pzZ7"
      },
      "source": [
        "**Euler 2**\n",
        "Each new term in the Fibonacci sequence is generated by adding the previous two terms. By starting with 1 and 2, the first 10 terms will be:\n",
        "\n",
        "1, 2, 3, 5, 8, 13, 21, 34, 55, 89, ...\n",
        "\n",
        "By considering the terms in the Fibonacci sequence whose values do not exceed four million, find the sum of the even-valued terms."
      ]
    },
    {
      "cell_type": "code",
      "metadata": {
        "id": "Q0Ri5rWzn90p",
        "colab": {
          "base_uri": "https://localhost:8080/"
        },
        "outputId": "a486a4e3-a6fc-4258-b4e9-22e60afcfe09"
      },
      "source": [
        "LIMIT = 4000000\n",
        "a, b = 0, 1\n",
        "result = 0\n",
        "while a < LIMIT:\n",
        "  if is_even(a):\n",
        "    result += a\n",
        "  a, b = b, a + b\n",
        "\n",
        "print(result)"
      ],
      "execution_count": 15,
      "outputs": [
        {
          "output_type": "stream",
          "text": [
            "4613732\n"
          ],
          "name": "stdout"
        }
      ]
    },
    {
      "cell_type": "code",
      "metadata": {
        "id": "hgYfecTLtbFF",
        "colab": {
          "base_uri": "https://localhost:8080/"
        },
        "outputId": "9bfa2499-cd77-4c63-8621-0c284b1acac5"
      },
      "source": [
        "def fib(n):\n",
        "    a, b = 0, 1\n",
        "    fibs = []\n",
        "    while a < n:\n",
        "        fibs.append(a)\n",
        "        a, b = b, a+b\n",
        "    return fibs\n",
        "\n",
        "print(fib(4000000))"
      ],
      "execution_count": 16,
      "outputs": [
        {
          "output_type": "stream",
          "text": [
            "[0, 1, 1, 2, 3, 5, 8, 13, 21, 34, 55, 89, 144, 233, 377, 610, 987, 1597, 2584, 4181, 6765, 10946, 17711, 28657, 46368, 75025, 121393, 196418, 317811, 514229, 832040, 1346269, 2178309, 3524578]\n"
          ],
          "name": "stdout"
        }
      ]
    },
    {
      "cell_type": "markdown",
      "metadata": {
        "id": "sGZT1lZJ87uO"
      },
      "source": [
        "#Sequence Data Type - **STRING**"
      ]
    },
    {
      "cell_type": "markdown",
      "metadata": {
        "id": "W5987NJL6V9Y"
      },
      "source": [
        "**Accessing Characters In String** and  **Negative indices**\n",
        "\n",
        "We  can  access  a  character  from  the  string  by  specifying  the  index  of  thecharacter.  Index starts from '0' indicates the beginning of the string andworking their way from -1 at the end\n",
        "\n",
        "We can access the subsets of a string using slice operator ([:])  with indexesstarting at 0 in the beginning of the string and working their way from -1at the end\n",
        "\n",
        "python gives a convenientshorthand:  -1 is the index of the last element, -2 is the index of the last butone and so on..."
      ]
    },
    {
      "cell_type": "code",
      "metadata": {
        "id": "7kZJ0PSKv6wN",
        "colab": {
          "base_uri": "https://localhost:8080/",
          "height": 35
        },
        "outputId": "669a387e-6b20-48e0-e902-8eaaccbd42d8"
      },
      "source": [
        "college = \"osmania university college of engineering hyderabad\"\n",
        "college[0]\n",
        "college[1]\n",
        "college[-1]\n",
        "college[0:10:2]"
      ],
      "execution_count": 17,
      "outputs": [
        {
          "output_type": "execute_result",
          "data": {
            "application/vnd.google.colaboratory.intrinsic+json": {
              "type": "string"
            },
            "text/plain": [
              "'omnau'"
            ]
          },
          "metadata": {
            "tags": []
          },
          "execution_count": 17
        }
      ]
    },
    {
      "cell_type": "code",
      "metadata": {
        "id": "wLCjQWw8q5e4"
      },
      "source": [
        "\n",
        "a, b = 10, 20\n",
        "a, b = b, a"
      ],
      "execution_count": 18,
      "outputs": []
    },
    {
      "cell_type": "code",
      "metadata": {
        "id": "PUfFpqYysc94",
        "colab": {
          "base_uri": "https://localhost:8080/"
        },
        "outputId": "566481b6-7d5d-48e3-8c5f-0cbc9c2c7517"
      },
      "source": [
        "a = 20\n",
        "b = 10\n",
        "id(a)\n"
      ],
      "execution_count": 19,
      "outputs": [
        {
          "output_type": "execute_result",
          "data": {
            "text/plain": [
              "93855799213152"
            ]
          },
          "metadata": {
            "tags": []
          },
          "execution_count": 19
        }
      ]
    },
    {
      "cell_type": "code",
      "metadata": {
        "id": "uZzwEgjIseUx",
        "colab": {
          "base_uri": "https://localhost:8080/"
        },
        "outputId": "dd1bacf8-bcda-4e8e-8869-44a95149ef4e"
      },
      "source": [
        "id(b)"
      ],
      "execution_count": 20,
      "outputs": [
        {
          "output_type": "execute_result",
          "data": {
            "text/plain": [
              "93855799212832"
            ]
          },
          "metadata": {
            "tags": []
          },
          "execution_count": 20
        }
      ]
    },
    {
      "cell_type": "code",
      "metadata": {
        "id": "KgcghzfA0Vvc",
        "colab": {
          "base_uri": "https://localhost:8080/"
        },
        "outputId": "2a2134e5-2770-4590-e01b-18180fdaeb71"
      },
      "source": [
        "id(10)"
      ],
      "execution_count": 21,
      "outputs": [
        {
          "output_type": "execute_result",
          "data": {
            "text/plain": [
              "93855799212832"
            ]
          },
          "metadata": {
            "tags": []
          },
          "execution_count": 21
        }
      ]
    }
  ]
}