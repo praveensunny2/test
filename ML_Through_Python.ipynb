{
  "nbformat": 4,
  "nbformat_minor": 0,
  "metadata": {
    "colab": {
      "name": "ML Through Python.ipynb",
      "provenance": [],
      "collapsed_sections": [
        "nTiaDw1JT9K_",
        "JV7W_0VfPSPl",
        "cHC43fLTpaa_"
      ],
      "toc_visible": true,
      "authorship_tag": "ABX9TyOG9sYNDUeg18hxx41gypF7",
      "include_colab_link": true
    },
    "kernelspec": {
      "name": "python3",
      "display_name": "Python 3"
    }
  },
  "cells": [
    {
      "cell_type": "markdown",
      "metadata": {
        "id": "view-in-github",
        "colab_type": "text"
      },
      "source": [
        "<a href=\"https://colab.research.google.com/github/praveensunny2/test/blob/main/ML_Through_Python.ipynb\" target=\"_parent\"><img src=\"https://colab.research.google.com/assets/colab-badge.svg\" alt=\"Open In Colab\"/></a>"
      ]
    },
    {
      "cell_type": "markdown",
      "metadata": {
        "id": "oLlA5OVNN0rC"
      },
      "source": [
        "#**Machine Learning**\n",
        "\n",
        "---\n",
        "#Supervised Learning \n",
        "\n",
        "---\n",
        "\n",
        "#Regression ---> Simple Linear Regression Algorithm\n",
        "\n",
        "##Implementing Linear Regression Model through Sci-Kit Learn Algorthim ON Height and Weight Dataset"
      ]
    },
    {
      "cell_type": "code",
      "metadata": {
        "id": "QdP_iBhUvMu5"
      },
      "source": [
        "import numpy as np\n",
        "import pandas as pd\n",
        "import matplotlib.pyplot as plt\n"
      ],
      "execution_count": null,
      "outputs": []
    },
    {
      "cell_type": "code",
      "metadata": {
        "id": "RzkbRYSzANLs"
      },
      "source": [
        "df = pd.read_csv('/content/weights_heights_gender.csv')"
      ],
      "execution_count": null,
      "outputs": []
    },
    {
      "cell_type": "code",
      "metadata": {
        "id": "T5JyTqqVBFXB",
        "colab": {
          "base_uri": "https://localhost:8080/",
          "height": 677
        },
        "outputId": "74012130-ce9c-4c54-cf81-e786dc7aa050"
      },
      "source": [
        "dataset"
      ],
      "execution_count": null,
      "outputs": [
        {
          "output_type": "execute_result",
          "data": {
            "text/html": [
              "<div>\n",
              "<style scoped>\n",
              "    .dataframe tbody tr th:only-of-type {\n",
              "        vertical-align: middle;\n",
              "    }\n",
              "\n",
              "    .dataframe tbody tr th {\n",
              "        vertical-align: top;\n",
              "    }\n",
              "\n",
              "    .dataframe thead th {\n",
              "        text-align: right;\n",
              "    }\n",
              "</style>\n",
              "<table border=\"1\" class=\"dataframe\">\n",
              "  <thead>\n",
              "    <tr style=\"text-align: right;\">\n",
              "      <th></th>\n",
              "      <th>Gender</th>\n",
              "      <th>Height</th>\n",
              "      <th>Weight</th>\n",
              "    </tr>\n",
              "  </thead>\n",
              "  <tbody>\n",
              "    <tr>\n",
              "      <th>0</th>\n",
              "      <td>Male</td>\n",
              "      <td>73.847017</td>\n",
              "      <td>241.893563</td>\n",
              "    </tr>\n",
              "    <tr>\n",
              "      <th>1</th>\n",
              "      <td>Male</td>\n",
              "      <td>68.781904</td>\n",
              "      <td>162.310473</td>\n",
              "    </tr>\n",
              "    <tr>\n",
              "      <th>2</th>\n",
              "      <td>Male</td>\n",
              "      <td>74.110105</td>\n",
              "      <td>212.740856</td>\n",
              "    </tr>\n",
              "    <tr>\n",
              "      <th>3</th>\n",
              "      <td>Male</td>\n",
              "      <td>71.730978</td>\n",
              "      <td>220.042470</td>\n",
              "    </tr>\n",
              "    <tr>\n",
              "      <th>4</th>\n",
              "      <td>Male</td>\n",
              "      <td>69.881796</td>\n",
              "      <td>206.349801</td>\n",
              "    </tr>\n",
              "    <tr>\n",
              "      <th>5</th>\n",
              "      <td>Male</td>\n",
              "      <td>67.253016</td>\n",
              "      <td>152.212156</td>\n",
              "    </tr>\n",
              "    <tr>\n",
              "      <th>6</th>\n",
              "      <td>Male</td>\n",
              "      <td>68.785081</td>\n",
              "      <td>183.927889</td>\n",
              "    </tr>\n",
              "    <tr>\n",
              "      <th>7</th>\n",
              "      <td>Male</td>\n",
              "      <td>68.348516</td>\n",
              "      <td>167.971110</td>\n",
              "    </tr>\n",
              "    <tr>\n",
              "      <th>8</th>\n",
              "      <td>Male</td>\n",
              "      <td>67.018950</td>\n",
              "      <td>175.929440</td>\n",
              "    </tr>\n",
              "    <tr>\n",
              "      <th>9</th>\n",
              "      <td>Male</td>\n",
              "      <td>63.456494</td>\n",
              "      <td>156.399676</td>\n",
              "    </tr>\n",
              "    <tr>\n",
              "      <th>10</th>\n",
              "      <td>Male</td>\n",
              "      <td>71.195382</td>\n",
              "      <td>186.604926</td>\n",
              "    </tr>\n",
              "    <tr>\n",
              "      <th>11</th>\n",
              "      <td>Male</td>\n",
              "      <td>71.640805</td>\n",
              "      <td>213.741169</td>\n",
              "    </tr>\n",
              "    <tr>\n",
              "      <th>12</th>\n",
              "      <td>Male</td>\n",
              "      <td>64.766329</td>\n",
              "      <td>167.127461</td>\n",
              "    </tr>\n",
              "    <tr>\n",
              "      <th>13</th>\n",
              "      <td>Male</td>\n",
              "      <td>69.283070</td>\n",
              "      <td>189.446181</td>\n",
              "    </tr>\n",
              "    <tr>\n",
              "      <th>14</th>\n",
              "      <td>Male</td>\n",
              "      <td>69.243732</td>\n",
              "      <td>186.434168</td>\n",
              "    </tr>\n",
              "    <tr>\n",
              "      <th>15</th>\n",
              "      <td>Male</td>\n",
              "      <td>67.645620</td>\n",
              "      <td>172.186930</td>\n",
              "    </tr>\n",
              "    <tr>\n",
              "      <th>16</th>\n",
              "      <td>Male</td>\n",
              "      <td>72.418317</td>\n",
              "      <td>196.028506</td>\n",
              "    </tr>\n",
              "    <tr>\n",
              "      <th>17</th>\n",
              "      <td>Male</td>\n",
              "      <td>63.974326</td>\n",
              "      <td>172.883470</td>\n",
              "    </tr>\n",
              "    <tr>\n",
              "      <th>18</th>\n",
              "      <td>Male</td>\n",
              "      <td>69.640060</td>\n",
              "      <td>185.983958</td>\n",
              "    </tr>\n",
              "    <tr>\n",
              "      <th>19</th>\n",
              "      <td>Male</td>\n",
              "      <td>67.936005</td>\n",
              "      <td>182.426648</td>\n",
              "    </tr>\n",
              "  </tbody>\n",
              "</table>\n",
              "</div>"
            ],
            "text/plain": [
              "   Gender     Height      Weight\n",
              "0    Male  73.847017  241.893563\n",
              "1    Male  68.781904  162.310473\n",
              "2    Male  74.110105  212.740856\n",
              "3    Male  71.730978  220.042470\n",
              "4    Male  69.881796  206.349801\n",
              "5    Male  67.253016  152.212156\n",
              "6    Male  68.785081  183.927889\n",
              "7    Male  68.348516  167.971110\n",
              "8    Male  67.018950  175.929440\n",
              "9    Male  63.456494  156.399676\n",
              "10   Male  71.195382  186.604926\n",
              "11   Male  71.640805  213.741169\n",
              "12   Male  64.766329  167.127461\n",
              "13   Male  69.283070  189.446181\n",
              "14   Male  69.243732  186.434168\n",
              "15   Male  67.645620  172.186930\n",
              "16   Male  72.418317  196.028506\n",
              "17   Male  63.974326  172.883470\n",
              "18   Male  69.640060  185.983958\n",
              "19   Male  67.936005  182.426648"
            ]
          },
          "metadata": {
            "tags": []
          },
          "execution_count": 15
        }
      ]
    },
    {
      "cell_type": "code",
      "metadata": {
        "id": "mcFOjnjlASwz"
      },
      "source": [
        "dataset = df.head(20)"
      ],
      "execution_count": null,
      "outputs": []
    },
    {
      "cell_type": "code",
      "metadata": {
        "id": "bjndqLrmAXYr"
      },
      "source": [
        "feature = dataset['Height']"
      ],
      "execution_count": null,
      "outputs": []
    },
    {
      "cell_type": "code",
      "metadata": {
        "id": "8gfYpQotAb3_"
      },
      "source": [
        "label = dataset['Weight']"
      ],
      "execution_count": null,
      "outputs": []
    },
    {
      "cell_type": "code",
      "metadata": {
        "id": "kMXw3Uq3PSyf"
      },
      "source": [
        "y = [68]\n",
        "y = np.array(y)"
      ],
      "execution_count": null,
      "outputs": []
    },
    {
      "cell_type": "code",
      "metadata": {
        "id": "fAQhwOtTPI1c"
      },
      "source": [
        "y = y.reshape(1,1)"
      ],
      "execution_count": null,
      "outputs": []
    },
    {
      "cell_type": "code",
      "metadata": {
        "id": "fxXONw5TOv0u",
        "colab": {
          "base_uri": "https://localhost:8080/",
          "height": 34
        },
        "outputId": "2ad63074-30e7-4e5c-c439-99df7b1c90cf"
      },
      "source": [
        "regressor.predict(y)"
      ],
      "execution_count": null,
      "outputs": [
        {
          "output_type": "execute_result",
          "data": {
            "text/plain": [
              "array([179.9703838])"
            ]
          },
          "metadata": {
            "tags": []
          },
          "execution_count": 75
        }
      ]
    },
    {
      "cell_type": "code",
      "metadata": {
        "id": "m6H7uH3_A2Id",
        "colab": {
          "base_uri": "https://localhost:8080/",
          "height": 282
        },
        "outputId": "d5fd3fe7-f526-4af0-fd6c-5daaeac8026d"
      },
      "source": [
        "plt.scatter(feature,label)"
      ],
      "execution_count": null,
      "outputs": [
        {
          "output_type": "execute_result",
          "data": {
            "text/plain": [
              "<matplotlib.collections.PathCollection at 0x7f8d6527d160>"
            ]
          },
          "metadata": {
            "tags": []
          },
          "execution_count": 14
        },
        {
          "output_type": "display_data",
          "data": {
            "image/png": "[encoded data removed]",
            "text/plain": [
              "<Figure size 432x288 with 1 Axes>"
            ]
          },
          "metadata": {
            "tags": [],
            "needs_background": "light"
          }
        }
      ]
    },
    {
      "cell_type": "code",
      "metadata": {
        "id": "AIOcI3spNY5D",
        "colab": {
          "base_uri": "https://localhost:8080/",
          "height": 282
        },
        "outputId": "5a6355ee-3fe7-41c4-90a5-a31269b79af0"
      },
      "source": [
        "plt.plot(feature,regressor.predict(feature),color='black')"
      ],
      "execution_count": null,
      "outputs": [
        {
          "output_type": "execute_result",
          "data": {
            "text/plain": [
              "[<matplotlib.lines.Line2D at 0x7f8d57badba8>]"
            ]
          },
          "metadata": {
            "tags": []
          },
          "execution_count": 59
        },
        {
          "output_type": "display_data",
          "data": {
            "image/png": "[encoded data removed]",
            "text/plain": [
              "<Figure size 432x288 with 1 Axes>"
            ]
          },
          "metadata": {
            "tags": [],
            "needs_background": "light"
          }
        }
      ]
    },
    {
      "cell_type": "markdown",
      "metadata": {
        "id": "nTiaDw1JT9K_"
      },
      "source": [
        "#y = mx + c\n",
        "where c = 0 i.e origin = (0,0)\n",
        "\n",
        "now,\n",
        "\n",
        "    y = mx\n",
        "\n",
        "where y(label) = Dependent variable / target/ Response\n",
        "\n",
        "x(feature) = Independent Variable\n",
        "\n",
        "m(slope) = Mapping Function"
      ]
    },
    {
      "cell_type": "code",
      "metadata": {
        "id": "dfauBdUAS1il",
        "colab": {
          "base_uri": "https://localhost:8080/",
          "height": 34
        },
        "outputId": "0f7d4cde-3380-4a8f-cc70-c0aff6d74dac"
      },
      "source": [
        "#y = mx + c\n",
        "regressor.coef_  #slope --- > m"
      ],
      "execution_count": null,
      "outputs": [
        {
          "output_type": "execute_result",
          "data": {
            "text/plain": [
              "array([6.35730215])"
            ]
          },
          "metadata": {
            "tags": []
          },
          "execution_count": 76
        }
      ]
    },
    {
      "cell_type": "code",
      "metadata": {
        "id": "ELImVvVcTBqz",
        "colab": {
          "base_uri": "https://localhost:8080/",
          "height": 34
        },
        "outputId": "042cd682-09d7-4bcb-f12d-308e9785a213"
      },
      "source": [
        "regressor.intercept_ # c value"
      ],
      "execution_count": null,
      "outputs": [
        {
          "output_type": "execute_result",
          "data": {
            "text/plain": [
              "-252.32616249222815"
            ]
          },
          "metadata": {
            "tags": []
          },
          "execution_count": 77
        }
      ]
    },
    {
      "cell_type": "code",
      "metadata": {
        "id": "lZjNkc1WT6kT",
        "colab": {
          "base_uri": "https://localhost:8080/",
          "height": 296
        },
        "outputId": "d7b69979-871b-4e67-ba7a-f6e7673327b2"
      },
      "source": [
        "from sklearn.linear_model import LinearRegression\n",
        "regressor = LinearRegression() # Model Creation\n",
        "regressor.fit(feature,label) # Train The Model\n",
        "plt.xlabel('Height') # Features ( x )\n",
        "plt.ylabel('Weight') # Label ( y )\n",
        "plt.scatter(feature,label) # Plots vlaues of heights and weights in DOT Format\n",
        "plt.plot(feature,regressor.predict(feature),color='red') # Draws a Best Fit Line in Red color \n",
        "#by taking original height as 'Features' and predicting weights as 'Labels' from height."
      ],
      "execution_count": null,
      "outputs": [
        {
          "output_type": "execute_result",
          "data": {
            "text/plain": [
              "[<matplotlib.lines.Line2D at 0x7f8d57a4fda0>]"
            ]
          },
          "metadata": {
            "tags": []
          },
          "execution_count": 78
        },
        {
          "output_type": "display_data",
          "data": {
            "image/png": "[encoded data removed]",
            "text/plain": [
              "<Figure size 432x288 with 1 Axes>"
            ]
          },
          "metadata": {
            "tags": [],
            "needs_background": "light"
          }
        }
      ]
    },
    {
      "cell_type": "markdown",
      "metadata": {
        "id": "JV7W_0VfPSPl"
      },
      "source": [
        "#Supervised Learning\n",
        "\n",
        "---\n",
        "\n",
        "\n",
        "#Classification --- >  KNN Algorithm\n"
      ]
    },
    {
      "cell_type": "code",
      "metadata": {
        "id": "m2SwfTl7PUAo"
      },
      "source": [
        "import numpy as np\n",
        "import pandas as pd\n",
        "import matplotlib.pyplot as plt"
      ],
      "execution_count": null,
      "outputs": []
    },
    {
      "cell_type": "code",
      "metadata": {
        "id": "sGWQ6XNqPkuL"
      },
      "source": [
        "df = pd.read_csv('/content/caesarian.csv')"
      ],
      "execution_count": null,
      "outputs": []
    },
    {
      "cell_type": "code",
      "metadata": {
        "id": "z_bROcTgXHEi",
        "colab": {
          "base_uri": "https://localhost:8080/",
          "height": 424
        },
        "outputId": "a9155c2a-680a-46dc-e32c-d550c10f9ea9"
      },
      "source": [
        "df"
      ],
      "execution_count": null,
      "outputs": [
        {
          "output_type": "execute_result",
          "data": {
            "text/html": [
              "<div>\n",
              "<style scoped>\n",
              "    .dataframe tbody tr th:only-of-type {\n",
              "        vertical-align: middle;\n",
              "    }\n",
              "\n",
              "    .dataframe tbody tr th {\n",
              "        vertical-align: top;\n",
              "    }\n",
              "\n",
              "    .dataframe thead th {\n",
              "        text-align: right;\n",
              "    }\n",
              "</style>\n",
              "<table border=\"1\" class=\"dataframe\">\n",
              "  <thead>\n",
              "    <tr style=\"text-align: right;\">\n",
              "      <th></th>\n",
              "      <th>Age</th>\n",
              "      <th>DeliveryNumber</th>\n",
              "      <th>DeliveryTime</th>\n",
              "      <th>BloodPressure</th>\n",
              "      <th>HeartProblem</th>\n",
              "      <th>Caesarian</th>\n",
              "    </tr>\n",
              "  </thead>\n",
              "  <tbody>\n",
              "    <tr>\n",
              "      <th>0</th>\n",
              "      <td>22</td>\n",
              "      <td>1</td>\n",
              "      <td>0</td>\n",
              "      <td>2</td>\n",
              "      <td>0</td>\n",
              "      <td>0</td>\n",
              "    </tr>\n",
              "    <tr>\n",
              "      <th>1</th>\n",
              "      <td>26</td>\n",
              "      <td>2</td>\n",
              "      <td>0</td>\n",
              "      <td>1</td>\n",
              "      <td>0</td>\n",
              "      <td>1</td>\n",
              "    </tr>\n",
              "    <tr>\n",
              "      <th>2</th>\n",
              "      <td>26</td>\n",
              "      <td>2</td>\n",
              "      <td>1</td>\n",
              "      <td>1</td>\n",
              "      <td>0</td>\n",
              "      <td>0</td>\n",
              "    </tr>\n",
              "    <tr>\n",
              "      <th>3</th>\n",
              "      <td>28</td>\n",
              "      <td>1</td>\n",
              "      <td>0</td>\n",
              "      <td>2</td>\n",
              "      <td>0</td>\n",
              "      <td>0</td>\n",
              "    </tr>\n",
              "    <tr>\n",
              "      <th>4</th>\n",
              "      <td>22</td>\n",
              "      <td>2</td>\n",
              "      <td>0</td>\n",
              "      <td>1</td>\n",
              "      <td>0</td>\n",
              "      <td>1</td>\n",
              "    </tr>\n",
              "    <tr>\n",
              "      <th>...</th>\n",
              "      <td>...</td>\n",
              "      <td>...</td>\n",
              "      <td>...</td>\n",
              "      <td>...</td>\n",
              "      <td>...</td>\n",
              "      <td>...</td>\n",
              "    </tr>\n",
              "    <tr>\n",
              "      <th>75</th>\n",
              "      <td>27</td>\n",
              "      <td>2</td>\n",
              "      <td>1</td>\n",
              "      <td>1</td>\n",
              "      <td>0</td>\n",
              "      <td>0</td>\n",
              "    </tr>\n",
              "    <tr>\n",
              "      <th>76</th>\n",
              "      <td>33</td>\n",
              "      <td>4</td>\n",
              "      <td>0</td>\n",
              "      <td>1</td>\n",
              "      <td>0</td>\n",
              "      <td>1</td>\n",
              "    </tr>\n",
              "    <tr>\n",
              "      <th>77</th>\n",
              "      <td>29</td>\n",
              "      <td>2</td>\n",
              "      <td>1</td>\n",
              "      <td>2</td>\n",
              "      <td>0</td>\n",
              "      <td>1</td>\n",
              "    </tr>\n",
              "    <tr>\n",
              "      <th>78</th>\n",
              "      <td>25</td>\n",
              "      <td>1</td>\n",
              "      <td>2</td>\n",
              "      <td>0</td>\n",
              "      <td>0</td>\n",
              "      <td>1</td>\n",
              "    </tr>\n",
              "    <tr>\n",
              "      <th>79</th>\n",
              "      <td>24</td>\n",
              "      <td>2</td>\n",
              "      <td>2</td>\n",
              "      <td>1</td>\n",
              "      <td>0</td>\n",
              "      <td>0</td>\n",
              "    </tr>\n",
              "  </tbody>\n",
              "</table>\n",
              "<p>80 rows × 6 columns</p>\n",
              "</div>"
            ],
            "text/plain": [
              "    Age  DeliveryNumber  DeliveryTime  BloodPressure  HeartProblem  Caesarian\n",
              "0    22               1             0              2             0          0\n",
              "1    26               2             0              1             0          1\n",
              "2    26               2             1              1             0          0\n",
              "3    28               1             0              2             0          0\n",
              "4    22               2             0              1             0          1\n",
              "..  ...             ...           ...            ...           ...        ...\n",
              "75   27               2             1              1             0          0\n",
              "76   33               4             0              1             0          1\n",
              "77   29               2             1              2             0          1\n",
              "78   25               1             2              0             0          1\n",
              "79   24               2             2              1             0          0\n",
              "\n",
              "[80 rows x 6 columns]"
            ]
          },
          "metadata": {
            "tags": []
          },
          "execution_count": 27
        }
      ]
    },
    {
      "cell_type": "code",
      "metadata": {
        "id": "HYizodgiPrL5"
      },
      "source": [
        "features = df[['Age','DeliveryNumber','DeliveryTime','BloodPressure','HeartProblem']]"
      ],
      "execution_count": null,
      "outputs": []
    },
    {
      "cell_type": "code",
      "metadata": {
        "id": "CqN502oWPr8e"
      },
      "source": [
        "features = features.values"
      ],
      "execution_count": null,
      "outputs": []
    },
    {
      "cell_type": "code",
      "metadata": {
        "id": "lDjC0UaiQMYO",
        "colab": {
          "base_uri": "https://localhost:8080/",
          "height": 34
        },
        "outputId": "6dce8367-d871-43b3-db1c-87b5fc040808"
      },
      "source": [
        "type(features)"
      ],
      "execution_count": null,
      "outputs": [
        {
          "output_type": "execute_result",
          "data": {
            "text/plain": [
              "numpy.ndarray"
            ]
          },
          "metadata": {
            "tags": []
          },
          "execution_count": 8
        }
      ]
    },
    {
      "cell_type": "code",
      "metadata": {
        "id": "gLCWkbb9QTIY"
      },
      "source": [
        "labels = df['Caesarian']"
      ],
      "execution_count": null,
      "outputs": []
    },
    {
      "cell_type": "code",
      "metadata": {
        "id": "xUEYgU63QXUu"
      },
      "source": [
        "labels = labels.values"
      ],
      "execution_count": null,
      "outputs": []
    },
    {
      "cell_type": "code",
      "metadata": {
        "id": "GPj4HVrQRsQd"
      },
      "source": [
        "from sklearn.model_selection import train_test_split\n",
        "features_train,features_test,labels_train,labels_test = train_test_split(features,labels,test_size = 0.25)"
      ],
      "execution_count": null,
      "outputs": []
    },
    {
      "cell_type": "code",
      "metadata": {
        "id": "59E_B06zQYQY"
      },
      "source": [
        "from sklearn.neighbors import KNeighborsClassifier\n",
        "classifier = KNeighborsClassifier(n_neighbors=5,p=2) #Model Creation    "
      ],
      "execution_count": null,
      "outputs": []
    },
    {
      "cell_type": "code",
      "metadata": {
        "id": "skerGFBrSzEk",
        "colab": {
          "base_uri": "https://localhost:8080/",
          "height": 69
        },
        "outputId": "2ca7e2ae-bf97-4066-bd81-a9b2ca297b3c"
      },
      "source": [
        "classifier.fit(features_train,labels_train) # Training the Model"
      ],
      "execution_count": null,
      "outputs": [
        {
          "output_type": "execute_result",
          "data": {
            "text/plain": [
              "KNeighborsClassifier(algorithm='auto', leaf_size=30, metric='minkowski',\n",
              "                     metric_params=None, n_jobs=None, n_neighbors=5, p=2,\n",
              "                     weights='uniform')"
            ]
          },
          "metadata": {
            "tags": []
          },
          "execution_count": 23
        }
      ]
    },
    {
      "cell_type": "code",
      "metadata": {
        "id": "l9p527rdVlzL"
      },
      "source": [
        "labels_pred = classifier.predict(features_test)"
      ],
      "execution_count": null,
      "outputs": []
    },
    {
      "cell_type": "code",
      "metadata": {
        "id": "DgmjQ0EjV2aD",
        "colab": {
          "base_uri": "https://localhost:8080/",
          "height": 52
        },
        "outputId": "f987b046-d350-4dc7-80bd-6aafb2500826"
      },
      "source": [
        "from sklearn.metrics import confusion_matrix\n",
        "confusion_matrix(labels_test,labels_pred)"
      ],
      "execution_count": null,
      "outputs": [
        {
          "output_type": "execute_result",
          "data": {
            "text/plain": [
              "array([[3, 2],\n",
              "       [7, 8]])"
            ]
          },
          "metadata": {
            "tags": []
          },
          "execution_count": 25
        }
      ]
    },
    {
      "cell_type": "code",
      "metadata": {
        "id": "P_xoDsvLWhbi",
        "colab": {
          "base_uri": "https://localhost:8080/",
          "height": 34
        },
        "outputId": "d7932ef7-5947-4616-ac65-2edf2a9fd37c"
      },
      "source": [
        "from sklearn.metrics import accuracy_score\n",
        "accuracy_score(labels_test,labels_pred)"
      ],
      "execution_count": null,
      "outputs": [
        {
          "output_type": "execute_result",
          "data": {
            "text/plain": [
              "0.55"
            ]
          },
          "metadata": {
            "tags": []
          },
          "execution_count": 26
        }
      ]
    },
    {
      "cell_type": "code",
      "metadata": {
        "id": "0rmtV7bbXY7A"
      },
      "source": [
        "(x) = np.array(x)"
      ],
      "execution_count": null,
      "outputs": []
    },
    {
      "cell_type": "code",
      "metadata": {
        "id": "9XCV4cgJXcXK",
        "colab": {
          "base_uri": "https://localhost:8080/",
          "height": 34
        },
        "outputId": "78941dd7-7bac-40f6-c7d0-81cf68968616"
      },
      "source": [
        "x.reshape(1,5)"
      ],
      "execution_count": null,
      "outputs": [
        {
          "output_type": "execute_result",
          "data": {
            "text/plain": [
              "array([[30,  4,  2,  1,  0]])"
            ]
          },
          "metadata": {
            "tags": []
          },
          "execution_count": 38
        }
      ]
    },
    {
      "cell_type": "code",
      "metadata": {
        "id": "txEiaKmvXmIK"
      },
      "source": [
        "x = x.reshape(1,5)"
      ],
      "execution_count": null,
      "outputs": []
    },
    {
      "cell_type": "code",
      "metadata": {
        "id": "eCnH_uPbX3PM"
      },
      "source": [
        "labels_pred = classifier.predict(x)"
      ],
      "execution_count": null,
      "outputs": []
    },
    {
      "cell_type": "code",
      "metadata": {
        "id": "YUVtxSb_X7wX",
        "colab": {
          "base_uri": "https://localhost:8080/",
          "height": 34
        },
        "outputId": "0685a4b9-3cf5-4764-bdd2-b37e364e1144"
      },
      "source": [
        "labels_pred"
      ],
      "execution_count": null,
      "outputs": [
        {
          "output_type": "execute_result",
          "data": {
            "text/plain": [
              "array([1])"
            ]
          },
          "metadata": {
            "tags": []
          },
          "execution_count": 50
        }
      ]
    },
    {
      "cell_type": "markdown",
      "metadata": {
        "id": "cHC43fLTpaa_"
      },
      "source": [
        "#UnSupervised Learning\n",
        "\n",
        "---\n",
        "#Clustering ---> KMeans Algorithm\n"
      ]
    },
    {
      "cell_type": "code",
      "metadata": {
        "id": "0n3IOPZsYT12"
      },
      "source": [
        "dataframe = pd.read_csv('/content/Foodtruck.csv')"
      ],
      "execution_count": null,
      "outputs": []
    },
    {
      "cell_type": "code",
      "metadata": {
        "id": "LG8w4aU4kyUH",
        "colab": {
          "base_uri": "https://localhost:8080/",
          "height": 424
        },
        "outputId": "0ec91852-591f-4347-bbb9-a2b38936e34e"
      },
      "source": [
        "dataframe"
      ],
      "execution_count": null,
      "outputs": [
        {
          "output_type": "execute_result",
          "data": {
            "text/html": [
              "<div>\n",
              "<style scoped>\n",
              "    .dataframe tbody tr th:only-of-type {\n",
              "        vertical-align: middle;\n",
              "    }\n",
              "\n",
              "    .dataframe tbody tr th {\n",
              "        vertical-align: top;\n",
              "    }\n",
              "\n",
              "    .dataframe thead th {\n",
              "        text-align: right;\n",
              "    }\n",
              "</style>\n",
              "<table border=\"1\" class=\"dataframe\">\n",
              "  <thead>\n",
              "    <tr style=\"text-align: right;\">\n",
              "      <th></th>\n",
              "      <th>Population</th>\n",
              "      <th>Profit</th>\n",
              "    </tr>\n",
              "  </thead>\n",
              "  <tbody>\n",
              "    <tr>\n",
              "      <th>0</th>\n",
              "      <td>6.1101</td>\n",
              "      <td>17.59200</td>\n",
              "    </tr>\n",
              "    <tr>\n",
              "      <th>1</th>\n",
              "      <td>5.5277</td>\n",
              "      <td>9.13020</td>\n",
              "    </tr>\n",
              "    <tr>\n",
              "      <th>2</th>\n",
              "      <td>8.5186</td>\n",
              "      <td>13.66200</td>\n",
              "    </tr>\n",
              "    <tr>\n",
              "      <th>3</th>\n",
              "      <td>7.0032</td>\n",
              "      <td>11.85400</td>\n",
              "    </tr>\n",
              "    <tr>\n",
              "      <th>4</th>\n",
              "      <td>5.8598</td>\n",
              "      <td>6.82330</td>\n",
              "    </tr>\n",
              "    <tr>\n",
              "      <th>...</th>\n",
              "      <td>...</td>\n",
              "      <td>...</td>\n",
              "    </tr>\n",
              "    <tr>\n",
              "      <th>92</th>\n",
              "      <td>5.8707</td>\n",
              "      <td>7.20290</td>\n",
              "    </tr>\n",
              "    <tr>\n",
              "      <th>93</th>\n",
              "      <td>5.3054</td>\n",
              "      <td>1.98690</td>\n",
              "    </tr>\n",
              "    <tr>\n",
              "      <th>94</th>\n",
              "      <td>8.2934</td>\n",
              "      <td>0.14454</td>\n",
              "    </tr>\n",
              "    <tr>\n",
              "      <th>95</th>\n",
              "      <td>13.3940</td>\n",
              "      <td>9.05510</td>\n",
              "    </tr>\n",
              "    <tr>\n",
              "      <th>96</th>\n",
              "      <td>5.4369</td>\n",
              "      <td>0.61705</td>\n",
              "    </tr>\n",
              "  </tbody>\n",
              "</table>\n",
              "<p>97 rows × 2 columns</p>\n",
              "</div>"
            ],
            "text/plain": [
              "    Population    Profit\n",
              "0       6.1101  17.59200\n",
              "1       5.5277   9.13020\n",
              "2       8.5186  13.66200\n",
              "3       7.0032  11.85400\n",
              "4       5.8598   6.82330\n",
              "..         ...       ...\n",
              "92      5.8707   7.20290\n",
              "93      5.3054   1.98690\n",
              "94      8.2934   0.14454\n",
              "95     13.3940   9.05510\n",
              "96      5.4369   0.61705\n",
              "\n",
              "[97 rows x 2 columns]"
            ]
          },
          "metadata": {
            "tags": []
          },
          "execution_count": 52
        }
      ]
    },
    {
      "cell_type": "code",
      "metadata": {
        "id": "pBD--7rwk0uw"
      },
      "source": [
        "feature = dataframe[['Population','Profit']]"
      ],
      "execution_count": null,
      "outputs": []
    },
    {
      "cell_type": "code",
      "metadata": {
        "id": "Qwh3Zw_tm-zo"
      },
      "source": [
        "feature = feature.values"
      ],
      "execution_count": null,
      "outputs": []
    },
    {
      "cell_type": "code",
      "metadata": {
        "id": "ISi-_yDMnE8F",
        "colab": {
          "base_uri": "https://localhost:8080/",
          "height": 1000
        },
        "outputId": "6138618d-e684-4222-a964-c124e8860b2c"
      },
      "source": [
        "feature"
      ],
      "execution_count": null,
      "outputs": [
        {
          "output_type": "execute_result",
          "data": {
            "text/plain": [
              "array([[ 6.1101 , 17.592  ],\n",
              "       [ 5.5277 ,  9.1302 ],\n",
              "       [ 8.5186 , 13.662  ],\n",
              "       [ 7.0032 , 11.854  ],\n",
              "       [ 5.8598 ,  6.8233 ],\n",
              "       [ 8.3829 , 11.886  ],\n",
              "       [ 7.4764 ,  4.3483 ],\n",
              "       [ 8.5781 , 12.     ],\n",
              "       [ 6.4862 ,  6.5987 ],\n",
              "       [ 5.0546 ,  3.8166 ],\n",
              "       [ 5.7107 ,  3.2522 ],\n",
              "       [14.164  , 15.505  ],\n",
              "       [ 5.734  ,  3.1551 ],\n",
              "       [ 8.4084 ,  7.2258 ],\n",
              "       [ 5.6407 ,  0.71618],\n",
              "       [ 5.3794 ,  3.5129 ],\n",
              "       [ 6.3654 ,  5.3048 ],\n",
              "       [ 5.1301 ,  0.56077],\n",
              "       [ 6.4296 ,  3.6518 ],\n",
              "       [ 7.0708 ,  5.3893 ],\n",
              "       [ 6.1891 ,  3.1386 ],\n",
              "       [20.27   , 21.767  ],\n",
              "       [ 5.4901 ,  4.263  ],\n",
              "       [ 6.3261 ,  5.1875 ],\n",
              "       [ 5.5649 ,  3.0825 ],\n",
              "       [18.945  , 22.638  ],\n",
              "       [12.828  , 13.501  ],\n",
              "       [10.957  ,  7.0467 ],\n",
              "       [13.176  , 14.692  ],\n",
              "       [22.203  , 24.147  ],\n",
              "       [ 5.2524 , -1.22   ],\n",
              "       [ 6.5894 ,  5.9966 ],\n",
              "       [ 9.2482 , 12.134  ],\n",
              "       [ 5.8918 ,  1.8495 ],\n",
              "       [ 8.2111 ,  6.5426 ],\n",
              "       [ 7.9334 ,  4.5623 ],\n",
              "       [ 8.0959 ,  4.1164 ],\n",
              "       [ 5.6063 ,  3.3928 ],\n",
              "       [12.836  , 10.117  ],\n",
              "       [ 6.3534 ,  5.4974 ],\n",
              "       [ 5.4069 ,  0.55657],\n",
              "       [ 6.8825 ,  3.9115 ],\n",
              "       [11.708  ,  5.3854 ],\n",
              "       [ 5.7737 ,  2.4406 ],\n",
              "       [ 7.8247 ,  6.7318 ],\n",
              "       [ 7.0931 ,  1.0463 ],\n",
              "       [ 5.0702 ,  5.1337 ],\n",
              "       [ 5.8014 ,  1.844  ],\n",
              "       [11.7    ,  8.0043 ],\n",
              "       [ 5.5416 ,  1.0179 ],\n",
              "       [ 7.5402 ,  6.7504 ],\n",
              "       [ 5.3077 ,  1.8396 ],\n",
              "       [ 7.4239 ,  4.2885 ],\n",
              "       [ 7.6031 ,  4.9981 ],\n",
              "       [ 6.3328 ,  1.4233 ],\n",
              "       [ 6.3589 , -1.4211 ],\n",
              "       [ 6.2742 ,  2.4756 ],\n",
              "       [ 5.6397 ,  4.6042 ],\n",
              "       [ 9.3102 ,  3.9624 ],\n",
              "       [ 9.4536 ,  5.4141 ],\n",
              "       [ 8.8254 ,  5.1694 ],\n",
              "       [ 5.1793 , -0.74279],\n",
              "       [21.279  , 17.929  ],\n",
              "       [14.908  , 12.054  ],\n",
              "       [18.959  , 17.054  ],\n",
              "       [ 7.2182 ,  4.8852 ],\n",
              "       [ 8.2951 ,  5.7442 ],\n",
              "       [10.236  ,  7.7754 ],\n",
              "       [ 5.4994 ,  1.0173 ],\n",
              "       [20.341  , 20.992  ],\n",
              "       [10.136  ,  6.6799 ],\n",
              "       [ 7.3345 ,  4.0259 ],\n",
              "       [ 6.0062 ,  1.2784 ],\n",
              "       [ 7.2259 ,  3.3411 ],\n",
              "       [ 5.0269 , -2.6807 ],\n",
              "       [ 6.5479 ,  0.29678],\n",
              "       [ 7.5386 ,  3.8845 ],\n",
              "       [ 5.0365 ,  5.7014 ],\n",
              "       [10.274  ,  6.7526 ],\n",
              "       [ 5.1077 ,  2.0576 ],\n",
              "       [ 5.7292 ,  0.47953],\n",
              "       [ 5.1884 ,  0.20421],\n",
              "       [ 6.3557 ,  0.67861],\n",
              "       [ 9.7687 ,  7.5435 ],\n",
              "       [ 6.5159 ,  5.3436 ],\n",
              "       [ 8.5172 ,  4.2415 ],\n",
              "       [ 9.1802 ,  6.7981 ],\n",
              "       [ 6.002  ,  0.92695],\n",
              "       [ 5.5204 ,  0.152  ],\n",
              "       [ 5.0594 ,  2.8214 ],\n",
              "       [ 5.7077 ,  1.8451 ],\n",
              "       [ 7.6366 ,  4.2959 ],\n",
              "       [ 5.8707 ,  7.2029 ],\n",
              "       [ 5.3054 ,  1.9869 ],\n",
              "       [ 8.2934 ,  0.14454],\n",
              "       [13.394  ,  9.0551 ],\n",
              "       [ 5.4369 ,  0.61705]])"
            ]
          },
          "metadata": {
            "tags": []
          },
          "execution_count": 66
        }
      ]
    },
    {
      "cell_type": "code",
      "metadata": {
        "id": "l2c3VcGvk5yx"
      },
      "source": [
        "from sklearn.cluster import KMeans\n",
        "kmeans = KMeans(n_clusters = 3)\n",
        "pred_cluster = kmeans.fit_predict(feature)"
      ],
      "execution_count": null,
      "outputs": []
    },
    {
      "cell_type": "code",
      "metadata": {
        "id": "Amv__jholpML",
        "colab": {
          "base_uri": "https://localhost:8080/",
          "height": 283
        },
        "outputId": "5c995562-eb89-4d71-ce71-f043148326a9"
      },
      "source": [
        "plt.scatter(feature[pred_cluster == 0,0],feature[pred_cluster == 0,1],c='blue',label='cluster I')\n",
        "plt.scatter(feature[pred_cluster == 1,0],feature[pred_cluster == 1,1],c='green',label='cluster II')\n",
        "plt.scatter(feature[pred_cluster == 2,0],feature[pred_cluster == 2,1],c='yellow',label='cluster III')\n",
        "kmeans.cluster_centers_\n",
        "plt.scatter(kmeans.cluster_centers_[:,0],kmeans.cluster_centers_[:,1],color='red')"
      ],
      "execution_count": null,
      "outputs": [
        {
          "output_type": "execute_result",
          "data": {
            "text/plain": [
              "<matplotlib.collections.PathCollection at 0x7faabe656d30>"
            ]
          },
          "metadata": {
            "tags": []
          },
          "execution_count": 73
        },
        {
          "output_type": "display_data",
          "data": {
            "image/png": "[encoded data removed]",
            "text/plain": [
              "<Figure size 432x288 with 1 Axes>"
            ]
          },
          "metadata": {
            "tags": [],
            "needs_background": "light"
          }
        }
      ]
    },
    {
      "cell_type": "code",
      "metadata": {
        "id": "1wDtKYKrpDSD"
      },
      "source": [
        ""
      ],
      "execution_count": null,
      "outputs": []
    }
  ]
}